{
 "cells": [
  {
   "cell_type": "code",
   "execution_count": 1,
   "metadata": {
    "executionInfo": {
     "elapsed": 35485,
     "status": "ok",
     "timestamp": 1679425183974,
     "user": {
      "displayName": "Roberta Troilo",
      "userId": "14529775410272755567"
     },
     "user_tz": -60
    },
    "id": "8c9fvc6touxm",
    "pycharm": {
     "name": "#%%\n"
    }
   },
   "outputs": [],
   "source": [
    "import sys\n",
    "sys.path.append(\"../../src\")\n",
    "import os\n",
    "import datetime\n",
    "import pandas as pd\n",
    "import numpy as np\n",
    "from spring_example import get_spring_data\n",
    "from sindy_utils import library_size\n",
    "from training import train_network\n",
    "import tensorflow as tf\n",
    "from scipy.integrate import solve_ivp"
   ]
  },
  {
   "cell_type": "markdown",
   "metadata": {
    "id": "HasmB1RQouxw",
    "pycharm": {
     "name": "#%% md\n"
    }
   },
   "source": [
    "# Generate data"
   ]
  },
  {
   "cell_type": "code",
   "execution_count": 2,
   "metadata": {
    "executionInfo": {
     "elapsed": 16412,
     "status": "ok",
     "timestamp": 1679425200354,
     "user": {
      "displayName": "Roberta Troilo",
      "userId": "14529775410272755567"
     },
     "user_tz": -60
    },
    "id": "2snSfLoFouxz",
    "pycharm": {
     "name": "#%%\n"
    }
   },
   "outputs": [],
   "source": [
    "training_data = get_spring_data(50)\n",
    "validation_data = get_spring_data(5)"
   ]
  },
  {
   "cell_type": "code",
   "execution_count": null,
   "metadata": {},
   "outputs": [],
   "source": []
  },
  {
   "cell_type": "markdown",
   "metadata": {
    "id": "lwYma8nEoux2",
    "pycharm": {
     "name": "#%% md\n"
    }
   },
   "source": [
    "# Set up model and training parameters"
   ]
  },
  {
   "cell_type": "code",
   "execution_count": 10,
   "metadata": {
    "executionInfo": {
     "elapsed": 376,
     "status": "ok",
     "timestamp": 1679425211708,
     "user": {
      "displayName": "Roberta Troilo",
      "userId": "14529775410272755567"
     },
     "user_tz": -60
    },
    "id": "KjZBQslhoux4",
    "pycharm": {
     "name": "#%%\n"
    }
   },
   "outputs": [],
   "source": [
    "params = {}\n",
    "\n",
    "params['input_dim'] = training_data['x'].shape[-1]\n",
    "params['latent_dim'] = 1\n",
    "params['poly_order'] = 2\n",
    "params['include_sine'] = False\n",
    "params['library_dim'] = library_size(params['latent_dim'], params['poly_order'], params['include_sine'], True)\n",
    "\n",
    "# sequential thresholding parameters\n",
    "params['sequential_thresholding'] = True\n",
    "params['coefficient_threshold'] = 0.00001\n",
    "params['threshold_frequency'] = 500\n",
    "params['coefficient_mask'] = np.ones((params['library_dim'], params['latent_dim']))\n",
    "params['coefficient_initialization'] ='glorot_normal'\n",
    "# loss function weighting\n",
    "params['loss_weight_decoder'] = 1.0\n",
    "params['loss_weight_sindy_x'] = 5e-2\n",
    "params['loss_weight_sindy_z'] = 1e-2\n",
    "params['loss_weight_sindy_regularization'] = 1e-5\n",
    "\n",
    "params['activation'] = 'relu'\n",
    "params['widths'] = [80,40,20]\n",
    "\n",
    "# training parameters\n",
    "params['epoch_size'] = training_data['x'].shape[0]\n",
    "params['batch_size'] = len(training_data['t'])\n",
    "params['learning_rate'] = 5e-4\n",
    "\n",
    "params['data_path'] = os.getcwd() + '/'\n",
    "params['print_progress'] = True\n",
    "params['print_frequency'] = 100\n",
    "\n",
    "# training time cutoffs\n",
    "params['max_epochs'] = 1001\n",
    "params['refinement_epochs'] = 6001"
   ]
  },
  {
   "cell_type": "markdown",
   "metadata": {
    "id": "LixxYZ9Boux6",
    "pycharm": {
     "name": "#%% md\n"
    }
   },
   "source": [
    "# Run training experiments"
   ]
  },
  {
   "cell_type": "code",
   "execution_count": null,
   "metadata": {
    "colab": {
     "base_uri": "https://localhost:8080/"
    },
    "executionInfo": {
     "elapsed": 9880568,
     "status": "ok",
     "timestamp": 1679435094417,
     "user": {
      "displayName": "Roberta Troilo",
      "userId": "14529775410272755567"
     },
     "user_tz": -60
    },
    "id": "LuIdjMaXoux8",
    "outputId": "85fe4a9c-53ef-4806-cf5e-d814fe7ef413",
    "pycharm": {
     "is_executing": true,
     "name": "#%%\n"
    },
    "scrolled": false
   },
   "outputs": [
    {
     "name": "stdout",
     "output_type": "stream",
     "text": [
      "EXPERIMENT 0\n",
      "TRAINING\n",
      "Epoch 0\n",
      "   training loss 0.002154564717784524, (0.0016830427, 0.020516308, 0.005134523, 0.9632928)\n",
      "   validation loss 0.001769465859979391, (0.0015629224, 0.01017966, 0.0019022792, 0.9632928)\n",
      "decoder loss ratio: 0.532745, decoder SINDy loss  ratio: 0.999695\n"
     ]
    }
   ],
   "source": [
    "num_experiments = 1\n",
    "df = pd.DataFrame()\n",
    "for i in range(num_experiments):\n",
    "    print('EXPERIMENT %d' % i)\n",
    "\n",
    "    params['coefficient_mask'] = np.ones((params['library_dim'], params['latent_dim']))\n",
    "\n",
    "    params['save_name'] = 'experiment_results_4_'+str(i) + '.pkl'\n",
    "\n",
    "    tf.compat.v1.reset_default_graph()\n",
    "\n",
    "    results_dict = train_network(training_data, validation_data, params)\n",
    "    \n",
    "    # Assuming results_dict and params are dictionaries\n",
    "    data_to_append = {**results_dict, **params}\n",
    "\n",
    "    # Create a Series from the data_to_append dictionary\n",
    "    series_to_append = pd.Series(data_to_append)\n",
    "\n",
    "    # Save the Series as a pickle file\n",
    "    with open('experiment_results_4_' + str(i) + '_series.pkl', 'wb') as file:\n",
    "        pickle.dump(series_to_append, file)\n",
    "    "
   ]
  },
  {
   "cell_type": "code",
   "execution_count": null,
   "metadata": {},
   "outputs": [],
   "source": []
  }
 ],
 "metadata": {
  "accelerator": "GPU",
  "colab": {
   "provenance": []
  },
  "gpuClass": "standard",
  "kernelspec": {
   "display_name": "Python 3 (ipykernel)",
   "language": "python",
   "name": "python3"
  },
  "language_info": {
   "codemirror_mode": {
    "name": "ipython",
    "version": 3
   },
   "file_extension": ".py",
   "mimetype": "text/x-python",
   "name": "python",
   "nbconvert_exporter": "python",
   "pygments_lexer": "ipython3",
   "version": "3.8.10"
  },
  "toc": {
   "base_numbering": 1,
   "nav_menu": {},
   "number_sections": true,
   "sideBar": true,
   "skip_h1_title": false,
   "title_cell": "Table of Contents",
   "title_sidebar": "Contents",
   "toc_cell": false,
   "toc_position": {},
   "toc_section_display": true,
   "toc_window_display": false
  },
  "varInspector": {
   "cols": {
    "lenName": 16,
    "lenType": 16,
    "lenVar": 40
   },
   "kernels_config": {
    "python": {
     "delete_cmd_postfix": "",
     "delete_cmd_prefix": "del ",
     "library": "var_list.py",
     "varRefreshCmd": "print(var_dic_list())"
    },
    "r": {
     "delete_cmd_postfix": ") ",
     "delete_cmd_prefix": "rm(",
     "library": "var_list.r",
     "varRefreshCmd": "cat(var_dic_list()) "
    }
   },
   "types_to_exclude": [
    "module",
    "function",
    "builtin_function_or_method",
    "instance",
    "_Feature"
   ],
   "window_display": false
  }
 },
 "nbformat": 4,
 "nbformat_minor": 1
}
