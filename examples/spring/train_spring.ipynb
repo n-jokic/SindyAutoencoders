{
 "cells": [
  {
   "cell_type": "code",
   "execution_count": 1,
   "metadata": {
    "executionInfo": {
     "elapsed": 35485,
     "status": "ok",
     "timestamp": 1679425183974,
     "user": {
      "displayName": "Roberta Troilo",
      "userId": "14529775410272755567"
     },
     "user_tz": -60
    },
    "id": "8c9fvc6touxm",
    "pycharm": {
     "name": "#%%\n"
    }
   },
   "outputs": [],
   "source": [
    "import sys\n",
    "sys.path.append(\"../../src\")\n",
    "import os\n",
    "import datetime\n",
    "import pandas as pd\n",
    "import numpy as np\n",
    "from spring_example import get_spring_data\n",
    "from sindy_utils import library_size\n",
    "from training import train_network\n",
    "import tensorflow as tf\n",
    "from scipy.integrate import solve_ivp\n",
    "import pickle"
   ]
  },
  {
   "cell_type": "markdown",
   "metadata": {
    "id": "HasmB1RQouxw",
    "pycharm": {
     "name": "#%% md\n"
    }
   },
   "source": [
    "# Generate data"
   ]
  },
  {
   "cell_type": "code",
   "execution_count": 2,
   "metadata": {
    "executionInfo": {
     "elapsed": 16412,
     "status": "ok",
     "timestamp": 1679425200354,
     "user": {
      "displayName": "Roberta Troilo",
      "userId": "14529775410272755567"
     },
     "user_tz": -60
    },
    "id": "2snSfLoFouxz",
    "pycharm": {
     "name": "#%%\n"
    }
   },
   "outputs": [],
   "source": [
    "training_data = get_spring_data(100)\n",
    "validation_data = get_spring_data(10)"
   ]
  },
  {
   "cell_type": "code",
   "execution_count": 3,
   "metadata": {},
   "outputs": [
    {
     "data": {
      "text/plain": [
       "289"
      ]
     },
     "execution_count": 3,
     "metadata": {},
     "output_type": "execute_result"
    }
   ],
   "source": [
    "len(training_data['t'])"
   ]
  },
  {
   "cell_type": "markdown",
   "metadata": {
    "id": "lwYma8nEoux2",
    "pycharm": {
     "name": "#%% md\n"
    }
   },
   "source": [
    "# Set up model and training parameters"
   ]
  },
  {
   "cell_type": "code",
   "execution_count": 6,
   "metadata": {
    "executionInfo": {
     "elapsed": 376,
     "status": "ok",
     "timestamp": 1679425211708,
     "user": {
      "displayName": "Roberta Troilo",
      "userId": "14529775410272755567"
     },
     "user_tz": -60
    },
    "id": "KjZBQslhoux4",
    "pycharm": {
     "name": "#%%\n"
    }
   },
   "outputs": [],
   "source": [
    "params = {}\n",
    "\n",
    "params['input_dim'] = training_data['x'].shape[-1]\n",
    "params['latent_dim'] = 2\n",
    "params['poly_order'] = 2\n",
    "params['include_sine'] = False\n",
    "params['library_dim'] = library_size(params['latent_dim'], params['poly_order'], params['include_sine'], True)\n",
    "\n",
    "# sequential thresholding parameters\n",
    "params['sequential_thresholding'] = True\n",
    "params['coefficient_threshold'] = 0.01\n",
    "params['threshold_frequency'] = 500\n",
    "params['coefficient_mask'] = np.ones((params['library_dim'], params['latent_dim']))\n",
    "params['coefficient_initialization'] ='glorot_normal'\n",
    "# loss function weighting\n",
    "params['loss_weight_decoder'] = 1.0\n",
    "params['loss_weight_sindy_x'] = 5e-4\n",
    "params['loss_weight_sindy_z'] = 5e-5\n",
    "params['loss_weight_sindy_regularization'] = 1e-5\n",
    "\n",
    "\n",
    "params['activation'] = 'elu'\n",
    "params['widths'] = [128,64]\n",
    "\n",
    "# training parameters\n",
    "params['epoch_size'] = training_data['x'].shape[0]\n",
    "params['batch_size'] = 289\n",
    "params['learning_rate'] = 1e-4\n",
    "\n",
    "params['data_path'] = os.getcwd() + '/'\n",
    "params['print_progress'] = True\n",
    "params['print_frequency'] = 100\n",
    "\n",
    "# training time cutoffs\n",
    "params['max_epochs'] = 5001\n",
    "params['refinement_epochs'] = 1001"
   ]
  },
  {
   "cell_type": "markdown",
   "metadata": {
    "id": "LixxYZ9Boux6",
    "pycharm": {
     "name": "#%% md\n"
    }
   },
   "source": [
    "# Run training experiments"
   ]
  },
  {
   "cell_type": "code",
   "execution_count": 7,
   "metadata": {
    "colab": {
     "base_uri": "https://localhost:8080/"
    },
    "executionInfo": {
     "elapsed": 9880568,
     "status": "ok",
     "timestamp": 1679435094417,
     "user": {
      "displayName": "Roberta Troilo",
      "userId": "14529775410272755567"
     },
     "user_tz": -60
    },
    "id": "LuIdjMaXoux8",
    "outputId": "85fe4a9c-53ef-4806-cf5e-d814fe7ef413",
    "pycharm": {
     "is_executing": true,
     "name": "#%%\n"
    },
    "scrolled": false
   },
   "outputs": [
    {
     "name": "stdout",
     "output_type": "stream",
     "text": [
      "EXPERIMENT 0\n",
      "TRAINING\n",
      "Epoch 0\n",
      "   training loss 0.02360079623758793, (0.023379704, 2.5406148, 0.18287927, 0.26231954)\n",
      "   validation loss 0.019102932885289192, (0.018887868, 2.8121438, 0.14367034, 0.26231954)\n",
      "decoder loss ratio: 0.385364, decoder SINDy loss  ratio: 1.451567\n",
      "Epoch 100\n",
      "   training loss 5.528091423911974e-05, (1.6675787e-05, 0.30225518, 0.04270143, 0.2141654)\n",
      "   validation loss 3.7611443985952064e-05, (1.2308531e-05, 0.21647765, 0.02467476, 0.2141654)\n",
      "decoder loss ratio: 0.000251, decoder SINDy loss  ratio: 0.249300\n",
      "Epoch 200\n",
      "   training loss 1.4457706129178405e-05, (6.9629377e-06, 0.039362457, 0.0053551425, 0.2849074)\n",
      "   validation loss 1.0434996511321515e-05, (4.7243975e-06, 0.024903312, 0.003232718, 0.2849074)\n",
      "decoder loss ratio: 0.000096, decoder SINDy loss  ratio: 0.032662\n",
      "Epoch 300\n",
      "   training loss 9.548550224280916e-06, (4.7818435e-06, 0.015267706, 0.0020429825, 0.298183)\n",
      "   validation loss 7.893581823736895e-06, (3.3053207e-06, 0.014604979, 0.0017523649, 0.298183)\n",
      "decoder loss ratio: 0.000067, decoder SINDy loss  ratio: 0.017705\n",
      "Epoch 400\n",
      "   training loss 8.790876563580241e-06, (4.594793e-06, 0.011013462, 0.0014431187, 0.2923851)\n",
      "   validation loss 7.041906883387128e-06, (2.9697997e-06, 0.010383809, 0.0012581318, 0.2923851)\n",
      "decoder loss ratio: 0.000061, decoder SINDy loss  ratio: 0.012711\n",
      "Epoch 500\n",
      "   training loss 7.695734893786721e-06, (3.855657e-06, 0.008434801, 0.0010879145, 0.28743804)\n",
      "   validation loss 6.096932338550687e-06, (2.3725984e-06, 0.0076827067, 0.0009316368, 0.28743804)\n",
      "decoder loss ratio: 0.000048, decoder SINDy loss  ratio: 0.009413\n",
      "THRESHOLDING: 7 active coefficients\n",
      "Epoch 600\n",
      "   training loss 6.047092938388232e-06, (2.4731364e-06, 0.0064052707, 0.0008307483, 0.2838319)\n",
      "   validation loss 5.243936357146595e-06, (1.7468371e-06, 0.006006236, 0.00071693753, 0.2838319)\n",
      "decoder loss ratio: 0.000036, decoder SINDy loss  ratio: 0.007244\n",
      "Epoch 700\n",
      "   training loss 5.976163265586365e-06, (2.584189e-06, 0.005072475, 0.0006504181, 0.28131416)\n",
      "   validation loss 4.943224666931201e-06, (1.6128859e-06, 0.0047294945, 0.00056144566, 0.28131416)\n",
      "decoder loss ratio: 0.000033, decoder SINDy loss  ratio: 0.005673\n",
      "Epoch 800\n",
      "   training loss 5.80644291403587e-06, (2.523742e-06, 0.0043897787, 0.0005436961, 0.2791364)\n",
      "   validation loss 4.983633061783621e-06, (1.7613553e-06, 0.003991532, 0.00046267456, 0.2791364)\n",
      "decoder loss ratio: 0.000036, decoder SINDy loss  ratio: 0.004675\n",
      "Epoch 900\n",
      "   training loss 4.827449629374314e-06, (1.6494021e-06, 0.0035621303, 0.0004592812, 0.27703002)\n",
      "   validation loss 4.2569022298266646e-06, (1.1213309e-06, 0.003361777, 0.00039436447, 0.27703002)\n",
      "decoder loss ratio: 0.000023, decoder SINDy loss  ratio: 0.003984\n",
      "Epoch 1000\n",
      "   training loss 4.826693839277141e-06, (1.7186077e-06, 0.0031667002, 0.0004009163, 0.2749293)\n",
      "   validation loss 4.463225195650011e-06, (1.3893005e-06, 0.0030298112, 0.0003462822, 0.2749293)\n",
      "decoder loss ratio: 0.000028, decoder SINDy loss  ratio: 0.003499\n",
      "THRESHOLDING: 6 active coefficients\n",
      "Epoch 1100\n",
      "   training loss 5.322808647179045e-06, (2.2784284e-06, 0.0027457178, 0.00035887808, 0.27276555)\n",
      "   validation loss 4.678676305047702e-06, (1.6539375e-06, 0.002709175, 0.0003232501, 0.27276555)\n",
      "decoder loss ratio: 0.000034, decoder SINDy loss  ratio: 0.003266\n",
      "Epoch 1200\n",
      "   training loss 4.693274604505859e-06, (1.6957073e-06, 0.0025207647, 0.00031472024, 0.2714169)\n",
      "   validation loss 4.1756547943805344e-06, (1.1885505e-06, 0.0025744343, 0.0002884279, 0.2714169)\n",
      "decoder loss ratio: 0.000024, decoder SINDy loss  ratio: 0.002914\n",
      "Epoch 1300\n",
      "   training loss 4.510189683060162e-06, (1.5405165e-06, 0.002240615, 0.00028923567, 0.2713025)\n",
      "   validation loss 4.115670435567154e-06, (1.1466174e-06, 0.002413119, 0.0002707448, 0.2713025)\n",
      "decoder loss ratio: 0.000023, decoder SINDy loss  ratio: 0.002735\n",
      "Epoch 1400\n",
      "   training loss 4.488311788009014e-06, (1.543981e-06, 0.0019937144, 0.00026570755, 0.2711791)\n",
      "   validation loss 4.141191766393604e-06, (1.1888492e-06, 0.0022432874, 0.0002567745, 0.2711791)\n",
      "decoder loss ratio: 0.000024, decoder SINDy loss  ratio: 0.002594\n",
      "Epoch 1500\n",
      "   training loss 4.168452505837195e-06, (1.2365446e-06, 0.0019030934, 0.0002510737, 0.27112165)\n",
      "   validation loss 3.9086880860850215e-06, (9.697202e-07, 0.0021492129, 0.00024058117, 0.27112165)\n",
      "decoder loss ratio: 0.000020, decoder SINDy loss  ratio: 0.002431\n",
      "THRESHOLDING: 5 active coefficients\n",
      "Epoch 1600\n",
      "   training loss 4.018352683488047e-06, (1.1024182e-06, 0.0017437545, 0.00023709655, 0.27101985)\n",
      "   validation loss 3.7871072890993673e-06, (8.6168e-07, 0.002017818, 0.00022867577, 0.27101985)\n",
      "decoder loss ratio: 0.000018, decoder SINDy loss  ratio: 0.002310\n",
      "Epoch 1700\n",
      "   training loss 4.779350092576351e-06, (1.8759578e-06, 0.0016937387, 0.0002191443, 0.27091333)\n",
      "   validation loss 4.264594281266909e-06, (1.3502746e-06, 0.0019472919, 0.00021564311, 0.27091333)\n",
      "decoder loss ratio: 0.000028, decoder SINDy loss  ratio: 0.002179\n",
      "Epoch 1800\n",
      "   training loss 3.87049021810526e-06, (9.763457e-07, 0.0015933106, 0.0002126037, 0.27081773)\n",
      "   validation loss 3.6271176213631406e-06, (7.209199e-07, 0.0018884616, 0.00020719478, 0.27081773)\n",
      "decoder loss ratio: 0.000015, decoder SINDy loss  ratio: 0.002093\n",
      "Epoch 1900\n",
      "   training loss 4.133936727157561e-06, (1.2469733e-06, 0.00154911, 0.00020344651, 0.27077848)\n",
      "   validation loss 3.826545253104996e-06, (9.285134e-07, 0.0018072204, 0.00019977191, 0.27077848)\n",
      "decoder loss ratio: 0.000019, decoder SINDy loss  ratio: 0.002018\n",
      "Epoch 2000\n",
      "   training loss 3.931205355911516e-06, (1.0511834e-06, 0.0014579203, 0.00020026202, 0.2706995)\n",
      "   validation loss 3.7827448977623135e-06, (8.903911e-07, 0.0017544077, 0.000195277, 0.2706995)\n",
      "decoder loss ratio: 0.000018, decoder SINDy loss  ratio: 0.001973\n",
      "THRESHOLDING: 5 active coefficients\n",
      "Epoch 2100\n",
      "   training loss 4.254846317053307e-06, (1.3822063e-06, 0.0014743048, 0.00018557717, 0.27061364)\n",
      "   validation loss 3.845956143777585e-06, (9.621227e-07, 0.0017092109, 0.00018447335, 0.27061364)\n",
      "decoder loss ratio: 0.000020, decoder SINDy loss  ratio: 0.001864\n",
      "Epoch 2200\n",
      "   training loss 3.566803570720367e-06, (7.015963e-07, 0.0013624462, 0.00018365943, 0.27052554)\n",
      "   validation loss 3.4843296816688962e-06, (6.079295e-07, 0.0016391587, 0.00017837364, 0.27052554)\n",
      "decoder loss ratio: 0.000012, decoder SINDy loss  ratio: 0.001802\n",
      "Epoch 2300\n",
      "   training loss 3.988915068475762e-06, (1.1287702e-06, 0.0013339755, 0.00017703122, 0.27049306)\n",
      "   validation loss 3.7070290090923663e-06, (8.346143e-07, 0.0015931556, 0.00017565307, 0.27049306)\n",
      "decoder loss ratio: 0.000017, decoder SINDy loss  ratio: 0.001775\n",
      "Epoch 2400\n",
      "   training loss 3.9932683648657985e-06, (1.1388156e-06, 0.00130366, 0.00017037246, 0.27040836)\n",
      "   validation loss 3.7680415516661014e-06, (9.02063e-07, 0.0015590161, 0.00016788865, 0.27040836)\n",
      "decoder loss ratio: 0.000018, decoder SINDy loss  ratio: 0.001696\n",
      "Epoch 2500\n",
      "   training loss 3.6519741115625948e-06, (8.031188e-07, 0.0012360209, 0.00016685501, 0.2703627)\n",
      "   validation loss 3.549080247466918e-06, (6.8718396e-07, 0.001516188, 0.00016491998, 0.2703627)\n",
      "decoder loss ratio: 0.000014, decoder SINDy loss  ratio: 0.001666\n",
      "THRESHOLDING: 4 active coefficients\n",
      "Epoch 2600\n",
      "   training loss 5.36666675543529e-06, (2.5246259e-06, 0.0011944822, 0.00017307405, 0.26957798)\n",
      "   validation loss 4.855802217207383e-06, (1.9906167e-06, 0.0015845086, 0.00018036118, 0.26957798)\n",
      "decoder loss ratio: 0.000041, decoder SINDy loss  ratio: 0.001822\n",
      "Epoch 2700\n",
      "   training loss 3.7273625821399037e-06, (8.9374583e-07, 0.0011652261, 0.0001577104, 0.26965)\n",
      "   validation loss 3.587992523534922e-06, (7.283973e-07, 0.0015881063, 0.00016737967, 0.26965)\n",
      "decoder loss ratio: 0.000015, decoder SINDy loss  ratio: 0.001691\n",
      "Epoch 2800\n",
      "   training loss 3.923382791981567e-06, (1.0891671e-06, 0.0011531715, 0.00015758509, 0.2697765)\n",
      "   validation loss 3.874207777698757e-06, (1.0138897e-06, 0.0015674274, 0.00016836356, 0.2697765)\n",
      "decoder loss ratio: 0.000021, decoder SINDy loss  ratio: 0.001701\n",
      "Epoch 2900\n",
      "   training loss 3.6323515359981684e-06, (8.0514957e-07, 0.0010746489, 0.00015014426, 0.26983973)\n",
      "   validation loss 3.3966450700972928e-06, (5.457877e-07, 0.0014840884, 0.0001565113, 0.26983973)\n",
      "decoder loss ratio: 0.000011, decoder SINDy loss  ratio: 0.001581\n"
     ]
    },
    {
     "name": "stdout",
     "output_type": "stream",
     "text": [
      "Epoch 3000\n",
      "   training loss 3.670980959213921e-06, (8.47736e-07, 0.0010680528, 0.00014223612, 0.26987243)\n",
      "   validation loss 3.4876497920777183e-06, (6.383676e-07, 0.0014788242, 0.00015323328, 0.26987243)\n",
      "decoder loss ratio: 0.000013, decoder SINDy loss  ratio: 0.001548\n",
      "THRESHOLDING: 4 active coefficients\n",
      "Epoch 3100\n",
      "   training loss 3.777640358748613e-06, (9.537038e-07, 0.0010683099, 0.00014335736, 0.26988426)\n",
      "   validation loss 3.6189221646054648e-06, (7.7103215e-07, 0.0014514476, 0.00015295007, 0.26988426)\n",
      "decoder loss ratio: 0.000016, decoder SINDy loss  ratio: 0.001545\n",
      "Epoch 3200\n",
      "   training loss 3.736498001671862e-06, (9.181296e-07, 0.0010053683, 0.00013857962, 0.269881)\n",
      "   validation loss 3.5334664971742313e-06, (6.906239e-07, 0.0014044736, 0.00014761758, 0.269881)\n",
      "decoder loss ratio: 0.000014, decoder SINDy loss  ratio: 0.001491\n",
      "Epoch 3300\n",
      "   training loss 4.372773673821939e-06, (1.5553622e-06, 0.0010302148, 0.00013446846, 0.26986665)\n",
      "   validation loss 3.840520548692439e-06, (1.0005159e-06, 0.0013901866, 0.00014365828, 0.26986665)\n",
      "decoder loss ratio: 0.000020, decoder SINDy loss  ratio: 0.001451\n",
      "Epoch 3400\n",
      "   training loss 3.84961640520487e-06, (1.031911e-06, 0.0010198782, 0.00013684515, 0.26982892)\n",
      "   validation loss 3.6036369692737935e-06, (7.656257e-07, 0.0013569025, 0.00014375403, 0.26982892)\n",
      "decoder loss ratio: 0.000016, decoder SINDy loss  ratio: 0.001452\n",
      "Epoch 3500\n",
      "   training loss 3.6212170471117133e-06, (8.0673755e-07, 0.00095941016, 0.00013565528, 0.26986814)\n",
      "   validation loss 3.476403435342945e-06, (6.4397295e-07, 0.0012813247, 0.00013936576, 0.26986814)\n",
      "decoder loss ratio: 0.000013, decoder SINDy loss  ratio: 0.001408\n",
      "THRESHOLDING: 4 active coefficients\n",
      "Epoch 3600\n",
      "   training loss 3.6316653222456807e-06, (8.2297595e-07, 0.0009871855, 0.00012274554, 0.26979575)\n",
      "   validation loss 3.5090820347249974e-06, (6.783188e-07, 0.0013178606, 0.00013382561, 0.26979575)\n",
      "decoder loss ratio: 0.000014, decoder SINDy loss  ratio: 0.001352\n",
      "Epoch 3700\n",
      "   training loss 3.6017563616042025e-06, (7.9507953e-07, 0.0009489495, 0.00012269906, 0.269788)\n",
      "   validation loss 3.50168102158932e-06, (6.730459e-07, 0.0012895967, 0.00013255098, 0.269788)\n",
      "decoder loss ratio: 0.000014, decoder SINDy loss  ratio: 0.001339\n",
      "Epoch 3800\n",
      "   training loss 3.594908775994554e-06, (7.864343e-07, 0.00094900874, 0.000126529, 0.26977596)\n",
      "   validation loss 3.4598863294377225e-06, (6.355537e-07, 0.0012195366, 0.00013119228, 0.26977596)\n",
      "decoder loss ratio: 0.000013, decoder SINDy loss  ratio: 0.001325\n",
      "Epoch 3900\n",
      "   training loss 3.606317022786243e-06, (8.007499e-07, 0.0009230553, 0.00012294069, 0.2697944)\n",
      "   validation loss 3.4983725072379457e-06, (6.777256e-07, 0.0011822372, 0.00012718212, 0.2697944)\n",
      "decoder loss ratio: 0.000014, decoder SINDy loss  ratio: 0.001285\n",
      "Epoch 4000\n",
      "   training loss 4.318642822909169e-06, (1.5104438e-06, 0.0009393325, 0.00012927066, 0.26965973)\n",
      "   validation loss 3.8921143641346134e-06, (1.0757416e-06, 0.0011557535, 0.00012397584, 0.26965973)\n",
      "decoder loss ratio: 0.000022, decoder SINDy loss  ratio: 0.001253\n",
      "THRESHOLDING: 4 active coefficients\n",
      "Epoch 4100\n",
      "   training loss 3.7129696011106716e-06, (9.0982127e-07, 0.0009408318, 0.00012115753, 0.2695528)\n",
      "   validation loss 3.554364411684219e-06, (7.4331916e-07, 0.001119455, 0.00011908947, 0.2695528)\n",
      "decoder loss ratio: 0.000015, decoder SINDy loss  ratio: 0.001203\n",
      "Epoch 4200\n",
      "   training loss 3.6743542750627967e-06, (8.72912e-07, 0.0009291242, 0.000118953736, 0.26955092)\n",
      "   validation loss 3.547040023477166e-06, (7.3528895e-07, 0.0011356605, 0.000118917465, 0.26955092)\n",
      "decoder loss ratio: 0.000015, decoder SINDy loss  ratio: 0.001201\n",
      "Epoch 4300\n",
      "   training loss 3.604990979511058e-06, (8.0772736e-07, 0.0009186845, 0.0001112712, 0.2695694)\n",
      "   validation loss 3.455685146036558e-06, (6.494764e-07, 0.0010815354, 0.00011287607, 0.2695694)\n",
      "decoder loss ratio: 0.000013, decoder SINDy loss  ratio: 0.001140\n",
      "Epoch 4400\n",
      "   training loss 4.135182280151639e-06, (1.3259374e-06, 0.0009660304, 0.00013009807, 0.26958945)\n",
      "   validation loss 3.939800990337972e-06, (1.1306392e-06, 0.0010781473, 0.000118719625, 0.26958945)\n",
      "decoder loss ratio: 0.000023, decoder SINDy loss  ratio: 0.001199\n",
      "Epoch 4500\n",
      "   training loss 3.7475351746252272e-06, (9.534884e-07, 0.0009087327, 0.00010553547, 0.26958427)\n",
      "   validation loss 3.506876964820549e-06, (7.05301e-07, 0.00104258, 0.000107208645, 0.26958427)\n",
      "decoder loss ratio: 0.000014, decoder SINDy loss  ratio: 0.001083\n",
      "THRESHOLDING: 4 active coefficients\n",
      "Epoch 4600\n",
      "   training loss 3.677449740280281e-06, (8.824131e-07, 0.000911437, 0.000107674634, 0.26956275)\n",
      "   validation loss 3.454937314018025e-06, (6.5375434e-07, 0.0010271035, 0.000108400614, 0.26956275)\n",
      "decoder loss ratio: 0.000013, decoder SINDy loss  ratio: 0.001095\n",
      "Epoch 4700\n",
      "   training loss 3.31439332512673e-06, (5.183614e-07, 0.0008916431, 0.00011178834, 0.26955557)\n",
      "   validation loss 3.2766447475296445e-06, (4.756231e-07, 0.0010167777, 0.00010925449, 0.26955557)\n",
      "decoder loss ratio: 0.000010, decoder SINDy loss  ratio: 0.001104\n",
      "Epoch 4800\n",
      "   training loss 3.376271706656553e-06, (5.81082e-07, 0.000884876, 0.00011083625, 0.2695528)\n",
      "   validation loss 3.285756747573032e-06, (4.870776e-07, 0.0009879974, 0.000107502594, 0.2695528)\n",
      "decoder loss ratio: 0.000010, decoder SINDy loss  ratio: 0.001086\n",
      "Epoch 4900\n",
      "   training loss 3.4920417419925798e-06, (6.9796334e-07, 0.0008831843, 0.0001092296, 0.26953045)\n",
      "   validation loss 3.3595265449548606e-06, (5.6147167e-07, 0.0009985651, 0.000105644256, 0.26953045)\n",
      "decoder loss ratio: 0.000011, decoder SINDy loss  ratio: 0.001067\n",
      "Epoch 5000\n",
      "   training loss 3.46287333741202e-06, (6.7011666e-07, 0.0008830393, 0.0001072274, 0.26949912)\n",
      "   validation loss 3.381804845048464e-06, (5.851737e-07, 0.0009898302, 0.000104297214, 0.26949912)\n",
      "decoder loss ratio: 0.000012, decoder SINDy loss  ratio: 0.001054\n",
      "THRESHOLDING: 4 active coefficients\n",
      "REFINEMENT\n",
      "Epoch 0\n",
      "   training loss 6.24068036358949e-07, (5.397614e-07, 0.00076880003, 9.173319e-05, 0.27103505)\n",
      "   validation loss 4.922341645396955e-07, (4.0103717e-07, 0.0008971564, 9.2678376e-05, 0.27103505)\n",
      "decoder loss ratio: 0.000008, decoder SINDy loss  ratio: 0.000936\n",
      "Epoch 100\n",
      "   training loss 1.1185987887074589e-06, (1.0399664e-06, 0.0007253267, 8.473218e-05, 0.2754295)\n",
      "   validation loss 9.118554089582176e-07, (8.2515595e-07, 0.0008622102, 8.717791e-05, 0.2754295)\n",
      "decoder loss ratio: 0.000017, decoder SINDy loss  ratio: 0.000881\n",
      "Epoch 200\n",
      "   training loss 9.030375167640159e-07, (8.2647676e-07, 0.0006949436, 8.362716e-05, 0.27549708)\n",
      "   validation loss 6.814743187533168e-07, (5.9697663e-07, 0.00082751655, 8.6243774e-05, 0.27549708)\n",
      "decoder loss ratio: 0.000012, decoder SINDy loss  ratio: 0.000871\n",
      "Epoch 300\n",
      "   training loss 7.934473273962794e-07, (7.195742e-07, 0.0006678845, 8.095784e-05, 0.2755526)\n",
      "   validation loss 6.352305490509025e-07, (5.5107995e-07, 0.0008343025, 8.487092e-05, 0.2755526)\n",
      "decoder loss ratio: 0.000011, decoder SINDy loss  ratio: 0.000857\n",
      "Epoch 400\n",
      "   training loss 6.576801183655334e-07, (5.847063e-07, 0.0006717255, 7.877511e-05, 0.27559504)\n",
      "   validation loss 5.926423227720079e-07, (5.0848615e-07, 0.0008389227, 8.442013e-05, 0.27559504)\n",
      "decoder loss ratio: 0.000010, decoder SINDy loss  ratio: 0.000853\n",
      "Epoch 500\n",
      "   training loss 4.587462285599031e-07, (3.8345198e-07, 0.00068855, 8.1733524e-05, 0.2756735)\n",
      "   validation loss 4.4815215005655773e-07, (3.6501288e-07, 0.00082464365, 8.381422e-05, 0.2756735)\n",
      "decoder loss ratio: 0.000007, decoder SINDy loss  ratio: 0.000847\n",
      "Epoch 600\n",
      "   training loss 8.579949621889682e-07, (7.859829e-07, 0.0006767899, 7.634518e-05, 0.27572012)\n",
      "   validation loss 7.696416446378862e-07, (6.8510207e-07, 0.00085018924, 8.406028e-05, 0.27572012)\n",
      "decoder loss ratio: 0.000014, decoder SINDy loss  ratio: 0.000849\n",
      "Epoch 700\n",
      "   training loss 6.401455152627022e-07, (5.690367e-07, 0.00065209315, 7.7008415e-05, 0.27577135)\n",
      "   validation loss 5.563483114201517e-07, (4.744907e-07, 0.0008176604, 8.194917e-05, 0.27577135)\n",
      "decoder loss ratio: 0.000010, decoder SINDy loss  ratio: 0.000828\n",
      "Epoch 800\n",
      "   training loss 6.557533538398275e-07, (5.851708e-07, 0.0006585209, 7.531302e-05, 0.27580395)\n",
      "   validation loss 6.055332164578431e-07, (5.2345314e-07, 0.00082524103, 8.163598e-05, 0.27580395)\n",
      "decoder loss ratio: 0.000011, decoder SINDy loss  ratio: 0.000825\n"
     ]
    },
    {
     "name": "stdout",
     "output_type": "stream",
     "text": [
      "Epoch 900\n",
      "   training loss 4.5263621473168314e-07, (3.8361017e-07, 0.0006383364, 7.4218435e-05, 0.27586928)\n",
      "   validation loss 4.20682880530876e-07, (3.414378e-07, 0.0007890817, 7.958198e-05, 0.27586928)\n",
      "decoder loss ratio: 0.000007, decoder SINDy loss  ratio: 0.000804\n",
      "Epoch 1000\n",
      "   training loss 1.010953042168694e-06, (9.394583e-07, 0.00067002955, 7.5986565e-05, 0.27589867)\n",
      "   validation loss 9.469589485888719e-07, (8.6864094e-07, 0.00077753456, 7.88825e-05, 0.27589867)\n",
      "decoder loss ratio: 0.000018, decoder SINDy loss  ratio: 0.000797\n"
     ]
    }
   ],
   "source": [
    "num_experiments = 1\n",
    "df = pd.DataFrame()\n",
    "for i in range(num_experiments):\n",
    "    print('EXPERIMENT %d' % i)\n",
    "\n",
    "    params['coefficient_mask'] = np.ones((params['library_dim'], params['latent_dim']))\n",
    "\n",
    "    params['save_name'] = 'experiment_results_4_'+str(i) + '.pkl'\n",
    "\n",
    "    tf.compat.v1.reset_default_graph()\n",
    "\n",
    "    results_dict = train_network(training_data, validation_data, params)\n",
    "    \n",
    "    # Assuming results_dict and params are dictionaries\n",
    "    data_to_append = {**results_dict, **params}\n",
    "\n",
    "    # Create a Series from the data_to_append dictionary\n",
    "    series_to_append = pd.Series(data_to_append)\n",
    "\n",
    "    # Save the Series as a pickle file\n",
    "    with open('experiment_results_4_' + str(i) + '.pkl', 'wb') as file:\n",
    "        pickle.dump(series_to_append, file)\n",
    "    "
   ]
  }
 ],
 "metadata": {
  "accelerator": "GPU",
  "colab": {
   "provenance": []
  },
  "gpuClass": "standard",
  "kernelspec": {
   "display_name": "Python 3 (ipykernel)",
   "language": "python",
   "name": "python3"
  },
  "language_info": {
   "codemirror_mode": {
    "name": "ipython",
    "version": 3
   },
   "file_extension": ".py",
   "mimetype": "text/x-python",
   "name": "python",
   "nbconvert_exporter": "python",
   "pygments_lexer": "ipython3",
   "version": "3.8.10"
  },
  "toc": {
   "base_numbering": 1,
   "nav_menu": {},
   "number_sections": true,
   "sideBar": true,
   "skip_h1_title": false,
   "title_cell": "Table of Contents",
   "title_sidebar": "Contents",
   "toc_cell": false,
   "toc_position": {},
   "toc_section_display": true,
   "toc_window_display": false
  },
  "varInspector": {
   "cols": {
    "lenName": 16,
    "lenType": 16,
    "lenVar": 40
   },
   "kernels_config": {
    "python": {
     "delete_cmd_postfix": "",
     "delete_cmd_prefix": "del ",
     "library": "var_list.py",
     "varRefreshCmd": "print(var_dic_list())"
    },
    "r": {
     "delete_cmd_postfix": ") ",
     "delete_cmd_prefix": "rm(",
     "library": "var_list.r",
     "varRefreshCmd": "cat(var_dic_list()) "
    }
   },
   "types_to_exclude": [
    "module",
    "function",
    "builtin_function_or_method",
    "instance",
    "_Feature"
   ],
   "window_display": false
  }
 },
 "nbformat": 4,
 "nbformat_minor": 1
}
