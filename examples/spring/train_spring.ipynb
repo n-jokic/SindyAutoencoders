{
 "cells": [
  {
   "cell_type": "code",
   "execution_count": 1,
   "metadata": {
    "executionInfo": {
     "elapsed": 35485,
     "status": "ok",
     "timestamp": 1679425183974,
     "user": {
      "displayName": "Roberta Troilo",
      "userId": "14529775410272755567"
     },
     "user_tz": -60
    },
    "id": "8c9fvc6touxm",
    "pycharm": {
     "name": "#%%\n"
    }
   },
   "outputs": [],
   "source": [
    "import sys\n",
    "sys.path.append(\"../../src\")\n",
    "import os\n",
    "import datetime\n",
    "import pandas as pd\n",
    "import numpy as np\n",
    "from spring_example import get_spring_data\n",
    "from sindy_utils import library_size\n",
    "from training import train_network\n",
    "import tensorflow as tf\n",
    "from scipy.integrate import solve_ivp\n",
    "import pickle"
   ]
  },
  {
   "cell_type": "markdown",
   "metadata": {
    "id": "HasmB1RQouxw",
    "pycharm": {
     "name": "#%% md\n"
    }
   },
   "source": [
    "# Generate data"
   ]
  },
  {
   "cell_type": "code",
   "execution_count": 6,
   "metadata": {
    "executionInfo": {
     "elapsed": 16412,
     "status": "ok",
     "timestamp": 1679425200354,
     "user": {
      "displayName": "Roberta Troilo",
      "userId": "14529775410272755567"
     },
     "user_tz": -60
    },
    "id": "2snSfLoFouxz",
    "pycharm": {
     "name": "#%%\n"
    }
   },
   "outputs": [],
   "source": [
    "training_data = get_spring_data(100)\n",
    "validation_data = get_spring_data(10)"
   ]
  },
  {
   "cell_type": "code",
   "execution_count": 7,
   "metadata": {},
   "outputs": [
    {
     "data": {
      "text/plain": [
       "289"
      ]
     },
     "execution_count": 7,
     "metadata": {},
     "output_type": "execute_result"
    }
   ],
   "source": [
    "len(training_data['t'])"
   ]
  },
  {
   "cell_type": "markdown",
   "metadata": {
    "id": "lwYma8nEoux2",
    "pycharm": {
     "name": "#%% md\n"
    }
   },
   "source": [
    "# Set up model and training parameters"
   ]
  },
  {
   "cell_type": "code",
   "execution_count": 8,
   "metadata": {
    "executionInfo": {
     "elapsed": 376,
     "status": "ok",
     "timestamp": 1679425211708,
     "user": {
      "displayName": "Roberta Troilo",
      "userId": "14529775410272755567"
     },
     "user_tz": -60
    },
    "id": "KjZBQslhoux4",
    "pycharm": {
     "name": "#%%\n"
    }
   },
   "outputs": [],
   "source": [
    "params = {}\n",
    "\n",
    "params['input_dim'] = training_data['x'].shape[-1]\n",
    "params['latent_dim'] = 2\n",
    "params['poly_order'] = 2\n",
    "params['include_sine'] = False\n",
    "params['library_dim'] = library_size(params['latent_dim'], params['poly_order'], params['include_sine'], True)\n",
    "\n",
    "# sequential thresholding parameters\n",
    "params['sequential_thresholding'] = True\n",
    "params['coefficient_threshold'] = 0.1\n",
    "params['threshold_frequency'] = 500\n",
    "params['coefficient_mask'] = np.ones((params['library_dim'], params['latent_dim']))\n",
    "params['coefficient_initialization'] ='glorot_normal'\n",
    "# loss function weighting\n",
    "params['loss_weight_decoder'] = 1.0\n",
    "params['loss_weight_sindy_x'] = 5e-3\n",
    "params['loss_weight_sindy_z'] = 5e-3\n",
    "params['loss_weight_sindy_regularization'] = 1e-5\n",
    "\n",
    "\n",
    "params['activation'] = 'sigmoid'\n",
    "params['widths'] = [128,64]\n",
    "\n",
    "# training parameters\n",
    "params['epoch_size'] = training_data['x'].shape[0]\n",
    "params['batch_size'] = 289\n",
    "params['learning_rate'] = 1e-4\n",
    "\n",
    "params['data_path'] = os.getcwd() + '/'\n",
    "params['print_progress'] = True\n",
    "params['print_frequency'] = 100\n",
    "\n",
    "# training time cutoffs\n",
    "params['max_epochs'] = 5001\n",
    "params['refinement_epochs'] = 1001"
   ]
  },
  {
   "cell_type": "markdown",
   "metadata": {
    "id": "LixxYZ9Boux6",
    "pycharm": {
     "name": "#%% md\n"
    }
   },
   "source": [
    "# Run training experiments"
   ]
  },
  {
   "cell_type": "code",
   "execution_count": null,
   "metadata": {
    "colab": {
     "base_uri": "https://localhost:8080/"
    },
    "executionInfo": {
     "elapsed": 9880568,
     "status": "ok",
     "timestamp": 1679435094417,
     "user": {
      "displayName": "Roberta Troilo",
      "userId": "14529775410272755567"
     },
     "user_tz": -60
    },
    "id": "LuIdjMaXoux8",
    "outputId": "85fe4a9c-53ef-4806-cf5e-d814fe7ef413",
    "pycharm": {
     "is_executing": true,
     "name": "#%%\n"
    },
    "scrolled": false
   },
   "outputs": [
    {
     "name": "stdout",
     "output_type": "stream",
     "text": [
      "EXPERIMENT 0\n",
      "TRAINING\n",
      "Epoch 0\n",
      "   training loss 0.03280152752995491, (0.03213607, 0.13103251, 0.0008843425, 0.5872416)\n",
      "   validation loss 0.09752825647592545, (0.09620917, 0.13268586, 0.129958, 0.5872416)\n",
      "decoder loss ratio: 1.498605, decoder SINDy loss  ratio: 1.000488\n",
      "Epoch 100\n",
      "   training loss 4.089771391591057e-05, (3.5415116e-05, 8.355535e-05, 9.3826515e-05, 0.45956865)\n",
      "   validation loss 0.002460563788190484, (0.0022010808, 0.02802693, 0.022950554, 0.45956865)\n",
      "decoder loss ratio: 0.034285, decoder SINDy loss  ratio: 0.176686\n",
      "Epoch 200\n",
      "   training loss 3.843058584607206e-05, (3.3168948e-05, 8.260125e-05, 0.000114300834, 0.4277127)\n",
      "   validation loss 0.0018977689323946834, (0.001772716, 0.00893832, 0.015216852, 0.4277127)\n",
      "decoder loss ratio: 0.027613, decoder SINDy loss  ratio: 0.117148\n",
      "Epoch 300\n",
      "   training loss 3.286408900748938e-05, (2.7344488e-05, 0.000110817076, 0.00016471106, 0.41419592)\n",
      "   validation loss 0.0015613127034157515, (0.0014502131, 0.0078026964, 0.013588837, 0.41419592)\n",
      "decoder loss ratio: 0.022589, decoder SINDy loss  ratio: 0.104614\n",
      "Epoch 400\n",
      "   training loss 1.7690461390884593e-05, (1.1763308e-05, 0.00014287728, 0.00017694912, 0.4328021)\n",
      "   validation loss 0.0008324031950905919, (0.0006999598, 0.015076658, 0.010546419, 0.4328021)\n",
      "decoder loss ratio: 0.010903, decoder SINDy loss  ratio: 0.081192\n",
      "Epoch 500\n",
      "   training loss 7.369460035988595e-06, (2.516862e-06, 4.4423978e-05, 5.6492234e-05, 0.43480173)\n",
      "   validation loss 0.0001478601188864559, (8.723739e-05, 0.006819472, 0.00443547, 0.43480173)\n",
      "decoder loss ratio: 0.001359, decoder SINDy loss  ratio: 0.034147\n",
      "THRESHOLDING: 10 active coefficients\n",
      "Epoch 600\n",
      "   training loss 5.144775059306994e-06, (4.1484367e-07, 2.704146e-05, 3.943374e-05, 0.43975553)\n",
      "   validation loss 7.347617793129757e-05, (3.4210658e-05, 0.0038768828, 0.0030967118, 0.43975553)\n",
      "decoder loss ratio: 0.000533, decoder SINDy loss  ratio: 0.023840\n",
      "Epoch 700\n",
      "   training loss 9.919522199197672e-06, (5.15404e-06, 1.8922774e-05, 3.338809e-05, 0.4503928)\n",
      "   validation loss 5.1389677537372336e-05, (2.36065e-05, 0.0023898615, 0.0022659884, 0.4503928)\n",
      "decoder loss ratio: 0.000368, decoder SINDy loss  ratio: 0.017445\n",
      "Epoch 800\n",
      "   training loss 9.205966307490598e-06, (4.4111916e-06, 1.4142017e-05, 2.6072943e-05, 0.45937002)\n",
      "   validation loss 3.881510565406643e-05, (1.6868162e-05, 0.0016677817, 0.0018028665, 0.45937002)\n",
      "decoder loss ratio: 0.000263, decoder SINDy loss  ratio: 0.013879\n",
      "Epoch 900\n",
      "   training loss 8.858143701218069e-06, (4.0398963e-06, 1.0566624e-05, 1.9658935e-05, 0.46671203)\n",
      "   validation loss 3.186391040799208e-05, (1.3425953e-05, 0.0012542797, 0.0014998881, 0.46671203)\n",
      "decoder loss ratio: 0.000209, decoder SINDy loss  ratio: 0.011547\n",
      "Epoch 1000\n",
      "   training loss 7.76182787376456e-06, (2.9126757e-06, 8.578451e-06, 1.6588225e-05, 0.47233188)\n",
      "   validation loss 2.6625097234500572e-05, (1.0546872e-05, 0.0009894206, 0.0012815612, 0.47233188)\n",
      "decoder loss ratio: 0.000164, decoder SINDy loss  ratio: 0.009866\n",
      "THRESHOLDING: 10 active coefficients\n",
      "Epoch 1100\n",
      "   training loss 7.3059468377323356e-06, (2.4339583e-06, 7.22237e-06, 1.4222143e-05, 0.47647658)\n",
      "   validation loss 2.3215761757455766e-05, (8.801814e-06, 0.0008124835, 0.0011173529, 0.47647658)\n",
      "decoder loss ratio: 0.000137, decoder SINDy loss  ratio: 0.008602\n",
      "Epoch 1200\n",
      "   training loss 8.311801138916053e-06, (3.4207649e-06, 6.6490684e-06, 1.2860462e-05, 0.4793488)\n",
      "   validation loss 2.1908857888774946e-05, (8.718403e-06, 0.00068769255, 0.000991701, 0.4793488)\n",
      "decoder loss ratio: 0.000136, decoder SINDy loss  ratio: 0.007635\n",
      "Epoch 1300\n",
      "   training loss 8.593058737460524e-06, (3.6939196e-06, 6.1388496e-06, 1.1404732e-05, 0.4811422)\n",
      "   validation loss 2.0493947886279784e-05, (8.229154e-06, 0.0005985124, 0.000892162, 0.4811422)\n",
      "decoder loss ratio: 0.000128, decoder SINDy loss  ratio: 0.006868\n",
      "Epoch 1400\n",
      "   training loss 9.740540917846374e-06, (4.8332513e-06, 6.5381105e-06, 1.0830727e-05, 0.4820446)\n",
      "   validation loss 2.023898014158476e-05, (8.691175e-06, 0.00053551205, 0.00080995995, 0.4820446)\n",
      "decoder loss ratio: 0.000135, decoder SINDy loss  ratio: 0.006236\n",
      "Epoch 1500\n",
      "   training loss 8.616359991719946e-06, (3.7221391e-06, 5.1676393e-06, 9.260949e-06, 0.48220778)\n",
      "   validation loss 1.820369107008446e-05, (7.261269e-06, 0.0004781601, 0.00074590894, 0.48220778)\n",
      "decoder loss ratio: 0.000113, decoder SINDy loss  ratio: 0.005742\n",
      "THRESHOLDING: 10 active coefficients\n"
     ]
    }
   ],
   "source": [
    "num_experiments = 1\n",
    "df = pd.DataFrame()\n",
    "for i in range(num_experiments):\n",
    "    print('EXPERIMENT %d' % i)\n",
    "\n",
    "    params['coefficient_mask'] = np.ones((params['library_dim'], params['latent_dim']))\n",
    "\n",
    "    params['save_name'] = 'experiment_results_'+str(i) + '.pkl'\n",
    "\n",
    "    tf.compat.v1.reset_default_graph()\n",
    "\n",
    "    results_dict = train_network(training_data, validation_data, params)\n",
    "    \n",
    "    # Assuming results_dict and params are dictionaries\n",
    "    data_to_append = {**results_dict, **params}\n",
    "\n",
    "    # Create a Series from the data_to_append dictionary\n",
    "    series_to_append = pd.Series(data_to_append)\n",
    "\n",
    "    # Save the Series as a pickle file\n",
    "    with open('experiment_results_4_' + str(i) + '.pkl', 'wb') as file:\n",
    "        pickle.dump(series_to_append, file)\n",
    "    "
   ]
  },
  {
   "cell_type": "code",
   "execution_count": null,
   "metadata": {},
   "outputs": [],
   "source": []
  }
 ],
 "metadata": {
  "accelerator": "GPU",
  "colab": {
   "provenance": []
  },
  "gpuClass": "standard",
  "kernelspec": {
   "display_name": "Python 3 (ipykernel)",
   "language": "python",
   "name": "python3"
  },
  "language_info": {
   "codemirror_mode": {
    "name": "ipython",
    "version": 3
   },
   "file_extension": ".py",
   "mimetype": "text/x-python",
   "name": "python",
   "nbconvert_exporter": "python",
   "pygments_lexer": "ipython3",
   "version": "3.8.10"
  },
  "toc": {
   "base_numbering": 1,
   "nav_menu": {},
   "number_sections": true,
   "sideBar": true,
   "skip_h1_title": false,
   "title_cell": "Table of Contents",
   "title_sidebar": "Contents",
   "toc_cell": false,
   "toc_position": {},
   "toc_section_display": true,
   "toc_window_display": false
  },
  "varInspector": {
   "cols": {
    "lenName": 16,
    "lenType": 16,
    "lenVar": 40
   },
   "kernels_config": {
    "python": {
     "delete_cmd_postfix": "",
     "delete_cmd_prefix": "del ",
     "library": "var_list.py",
     "varRefreshCmd": "print(var_dic_list())"
    },
    "r": {
     "delete_cmd_postfix": ") ",
     "delete_cmd_prefix": "rm(",
     "library": "var_list.r",
     "varRefreshCmd": "cat(var_dic_list()) "
    }
   },
   "types_to_exclude": [
    "module",
    "function",
    "builtin_function_or_method",
    "instance",
    "_Feature"
   ],
   "window_display": false
  }
 },
 "nbformat": 4,
 "nbformat_minor": 1
}
